{
 "cells": [
  {
   "cell_type": "code",
   "execution_count": 8,
   "id": "worthy-olympus",
   "metadata": {},
   "outputs": [
    {
     "data": {
      "text/html": [
       "<table class=\"data-frame\"><thead><tr><th></th><th>Column1</th><th>Date</th><th>Year</th><th>Name</th><th>Manner of Death</th><th>Race</th></tr><tr><th></th><th>Int64</th><th>Date…</th><th>Int64</th><th>String?</th><th>String</th><th>String</th></tr></thead><tbody><p>5,692 rows × 9 columns (omitted printing of 3 columns)</p><tr><th>1</th><td>0</td><td>2015-01-02</td><td>2015</td><td>Tim Elliot</td><td>shot</td><td>Asian</td></tr><tr><th>2</th><td>1</td><td>2016-10-11</td><td>2016</td><td>Michael L. Taylor</td><td>shot</td><td>Asian</td></tr><tr><th>3</th><td>2</td><td>2017-06-14</td><td>2017</td><td>Tommy Le</td><td>shot and Tasered</td><td>Asian</td></tr><tr><th>4</th><td>3</td><td>2017-07-08</td><td>2017</td><td>Michael Anthony Rude</td><td>shot</td><td>Asian</td></tr><tr><th>5</th><td>4</td><td>2018-12-31</td><td>2018</td><td>Iosia Faletogo</td><td>shot</td><td>Asian</td></tr><tr><th>6</th><td>5</td><td>2019-02-19</td><td>2019</td><td>Clayton Joseph</td><td>shot</td><td>Asian</td></tr><tr><th>7</th><td>6</td><td>2019-05-31</td><td>2019</td><td>Jesse Sarey</td><td>shot</td><td>Asian</td></tr><tr><th>8</th><td>7</td><td>2020-01-10</td><td>2020</td><td>Clando Anitok</td><td>shot and Tasered</td><td>Asian</td></tr><tr><th>9</th><td>8</td><td>2020-01-21</td><td>2020</td><td>Sok Chin Son</td><td>shot and Tasered</td><td>Asian</td></tr><tr><th>10</th><td>9</td><td>2015-01-28</td><td>2015</td><td>Matautu Nuu</td><td>shot and Tasered</td><td>Asian</td></tr><tr><th>11</th><td>10</td><td>2015-03-04</td><td>2015</td><td>Carl Lao</td><td>shot</td><td>Asian</td></tr><tr><th>12</th><td>11</td><td>2015-04-08</td><td>2015</td><td>Joseph Jeremy Weber</td><td>shot</td><td>Asian</td></tr><tr><th>13</th><td>12</td><td>2015-05-05</td><td>2015</td><td>Thong Kien Ma</td><td>shot</td><td>Asian</td></tr><tr><th>14</th><td>13</td><td>2015-07-02</td><td>2015</td><td>Ton Nguyen</td><td>shot</td><td>Asian</td></tr><tr><th>15</th><td>14</td><td>2015-09-09</td><td>2015</td><td>William Chau</td><td>shot</td><td>Asian</td></tr><tr><th>16</th><td>15</td><td>2015-12-14</td><td>2015</td><td>Mharloun Verdejo  Saycon</td><td>shot</td><td>Asian</td></tr><tr><th>17</th><td>16</td><td>2015-12-29</td><td>2015</td><td>Siolosega Velega-Nuufolau</td><td>shot</td><td>Asian</td></tr><tr><th>18</th><td>17</td><td>2015-12-29</td><td>2015</td><td>Tien Hua</td><td>shot</td><td>Asian</td></tr><tr><th>19</th><td>18</td><td>2016-04-30</td><td>2016</td><td>Marion Habana</td><td>shot</td><td>Asian</td></tr><tr><th>20</th><td>19</td><td>2016-05-11</td><td>2016</td><td>Thongsoune Vilaysane</td><td>shot</td><td>Asian</td></tr><tr><th>21</th><td>20</td><td>2016-06-28</td><td>2016</td><td>Barry Prak</td><td>shot</td><td>Asian</td></tr><tr><th>22</th><td>21</td><td>2016-11-19</td><td>2016</td><td>Luke Smith</td><td>shot and Tasered</td><td>Asian</td></tr><tr><th>23</th><td>22</td><td>2016-12-24</td><td>2016</td><td>Zhonghua Li</td><td>shot</td><td>Asian</td></tr><tr><th>24</th><td>23</td><td>2017-01-15</td><td>2017</td><td>Sinuon Pream</td><td>shot and Tasered</td><td>Asian</td></tr><tr><th>25</th><td>24</td><td>2017-04-22</td><td>2017</td><td>Joseph Sin</td><td>shot</td><td>Asian</td></tr><tr><th>26</th><td>25</td><td>2017-12-08</td><td>2017</td><td>Vernchoy Saechao</td><td>shot</td><td>Asian</td></tr><tr><th>27</th><td>26</td><td>2018-01-05</td><td>2018</td><td>Andy Vo</td><td>shot</td><td>Asian</td></tr><tr><th>28</th><td>27</td><td>2018-01-09</td><td>2018</td><td>Thompson Nguyen</td><td>shot</td><td>Asian</td></tr><tr><th>29</th><td>28</td><td>2018-03-21</td><td>2018</td><td>Jehad Eid</td><td>shot</td><td>Asian</td></tr><tr><th>30</th><td>29</td><td>2018-04-05</td><td>2018</td><td>Nathaniel Prasad</td><td>shot</td><td>Asian</td></tr><tr><th>&vellip;</th><td>&vellip;</td><td>&vellip;</td><td>&vellip;</td><td>&vellip;</td><td>&vellip;</td><td>&vellip;</td></tr></tbody></table>"
      ],
      "text/latex": [
       "\\begin{tabular}{r|ccccccc}\n",
       "\t& Column1 & Date & Year & Name & Manner of Death & Race & \\\\\n",
       "\t\\hline\n",
       "\t& Int64 & Date… & Int64 & String? & String & String & \\\\\n",
       "\t\\hline\n",
       "\t1 & 0 & 2015-01-02 & 2015 & Tim Elliot & shot & Asian & $\\dots$ \\\\\n",
       "\t2 & 1 & 2016-10-11 & 2016 & Michael L. Taylor & shot & Asian & $\\dots$ \\\\\n",
       "\t3 & 2 & 2017-06-14 & 2017 & Tommy Le & shot and Tasered & Asian & $\\dots$ \\\\\n",
       "\t4 & 3 & 2017-07-08 & 2017 & Michael Anthony Rude & shot & Asian & $\\dots$ \\\\\n",
       "\t5 & 4 & 2018-12-31 & 2018 & Iosia Faletogo & shot & Asian & $\\dots$ \\\\\n",
       "\t6 & 5 & 2019-02-19 & 2019 & Clayton Joseph & shot & Asian & $\\dots$ \\\\\n",
       "\t7 & 6 & 2019-05-31 & 2019 & Jesse Sarey & shot & Asian & $\\dots$ \\\\\n",
       "\t8 & 7 & 2020-01-10 & 2020 & Clando Anitok & shot and Tasered & Asian & $\\dots$ \\\\\n",
       "\t9 & 8 & 2020-01-21 & 2020 & Sok Chin Son & shot and Tasered & Asian & $\\dots$ \\\\\n",
       "\t10 & 9 & 2015-01-28 & 2015 & Matautu Nuu & shot and Tasered & Asian & $\\dots$ \\\\\n",
       "\t11 & 10 & 2015-03-04 & 2015 & Carl Lao & shot & Asian & $\\dots$ \\\\\n",
       "\t12 & 11 & 2015-04-08 & 2015 & Joseph Jeremy Weber & shot & Asian & $\\dots$ \\\\\n",
       "\t13 & 12 & 2015-05-05 & 2015 & Thong Kien Ma & shot & Asian & $\\dots$ \\\\\n",
       "\t14 & 13 & 2015-07-02 & 2015 & Ton Nguyen & shot & Asian & $\\dots$ \\\\\n",
       "\t15 & 14 & 2015-09-09 & 2015 & William Chau & shot & Asian & $\\dots$ \\\\\n",
       "\t16 & 15 & 2015-12-14 & 2015 & Mharloun Verdejo  Saycon & shot & Asian & $\\dots$ \\\\\n",
       "\t17 & 16 & 2015-12-29 & 2015 & Siolosega Velega-Nuufolau & shot & Asian & $\\dots$ \\\\\n",
       "\t18 & 17 & 2015-12-29 & 2015 & Tien Hua & shot & Asian & $\\dots$ \\\\\n",
       "\t19 & 18 & 2016-04-30 & 2016 & Marion Habana & shot & Asian & $\\dots$ \\\\\n",
       "\t20 & 19 & 2016-05-11 & 2016 & Thongsoune Vilaysane & shot & Asian & $\\dots$ \\\\\n",
       "\t21 & 20 & 2016-06-28 & 2016 & Barry Prak & shot & Asian & $\\dots$ \\\\\n",
       "\t22 & 21 & 2016-11-19 & 2016 & Luke Smith & shot and Tasered & Asian & $\\dots$ \\\\\n",
       "\t23 & 22 & 2016-12-24 & 2016 & Zhonghua Li & shot & Asian & $\\dots$ \\\\\n",
       "\t24 & 23 & 2017-01-15 & 2017 & Sinuon Pream & shot and Tasered & Asian & $\\dots$ \\\\\n",
       "\t25 & 24 & 2017-04-22 & 2017 & Joseph Sin & shot & Asian & $\\dots$ \\\\\n",
       "\t26 & 25 & 2017-12-08 & 2017 & Vernchoy Saechao & shot & Asian & $\\dots$ \\\\\n",
       "\t27 & 26 & 2018-01-05 & 2018 & Andy Vo & shot & Asian & $\\dots$ \\\\\n",
       "\t28 & 27 & 2018-01-09 & 2018 & Thompson Nguyen & shot & Asian & $\\dots$ \\\\\n",
       "\t29 & 28 & 2018-03-21 & 2018 & Jehad Eid & shot & Asian & $\\dots$ \\\\\n",
       "\t30 & 29 & 2018-04-05 & 2018 & Nathaniel Prasad & shot & Asian & $\\dots$ \\\\\n",
       "\t$\\dots$ & $\\dots$ & $\\dots$ & $\\dots$ & $\\dots$ & $\\dots$ & $\\dots$ &  \\\\\n",
       "\\end{tabular}\n"
      ],
      "text/plain": [
       "5692×9 DataFrame. Omitted printing of 5 columns\n",
       "│ Row  │ Column1 │ Date       │ Year  │ Name                  │\n",
       "│      │ \u001b[90mInt64\u001b[39m   │ \u001b[90mDates.Date\u001b[39m │ \u001b[90mInt64\u001b[39m │ \u001b[90mString?\u001b[39m               │\n",
       "├──────┼─────────┼────────────┼───────┼───────────────────────┤\n",
       "│ 1    │ 0       │ 2015-01-02 │ 2015  │ Tim Elliot            │\n",
       "│ 2    │ 1       │ 2016-10-11 │ 2016  │ Michael L. Taylor     │\n",
       "│ 3    │ 2       │ 2017-06-14 │ 2017  │ Tommy Le              │\n",
       "│ 4    │ 3       │ 2017-07-08 │ 2017  │ Michael Anthony Rude  │\n",
       "│ 5    │ 4       │ 2018-12-31 │ 2018  │ Iosia Faletogo        │\n",
       "│ 6    │ 5       │ 2019-02-19 │ 2019  │ Clayton Joseph        │\n",
       "│ 7    │ 6       │ 2019-05-31 │ 2019  │ Jesse Sarey           │\n",
       "│ 8    │ 7       │ 2020-01-10 │ 2020  │ Clando Anitok         │\n",
       "│ 9    │ 8       │ 2020-01-21 │ 2020  │ Sok Chin Son          │\n",
       "│ 10   │ 9       │ 2015-01-28 │ 2015  │ Matautu Nuu           │\n",
       "⋮\n",
       "│ 5682 │ 5681    │ 2019-01-06 │ 2019  │ Kevin Shawn Hanson    │\n",
       "│ 5683 │ 5682    │ 2019-03-06 │ 2019  │ Donqaule Maurice Gray │\n",
       "│ 5684 │ 5683    │ 2015-08-05 │ 2015  │ Raymond Hodge         │\n",
       "│ 5685 │ 5684    │ 2021-04-14 │ 2021  │ Lindani Myeni         │\n",
       "│ 5686 │ 5685    │ 2017-12-14 │ 2017  │ Zoe Dowdell           │\n",
       "│ 5687 │ 5686    │ 2019-02-20 │ 2019  │ Kyron Marcell Sands   │\n",
       "│ 5688 │ 5687    │ 2020-01-16 │ 2020  │ Murbarak Soulemane    │\n",
       "│ 5689 │ 5688    │ 2020-12-26 │ 2020  │ Shamar Ogman          │\n",
       "│ 5690 │ 5689    │ 2021-02-05 │ 2021  │ Christopher Hagans    │\n",
       "│ 5691 │ 5690    │ 2016-03-24 │ 2016  │ Dominique Silva       │\n",
       "│ 5692 │ 5691    │ 2018-09-07 │ 2018  │ DaShawn Cole          │"
      ]
     },
     "execution_count": 8,
     "metadata": {},
     "output_type": "execute_result"
    }
   ],
   "source": [
    "using DataFrames,UrlDownload;\n",
    "\n",
    "url = \"https://raw.githubusercontent.com/NicJC/Datasets/main/Police.csv\"\n",
    "\n",
    "police = urldownload(url) |> DataFrame"
   ]
  },
  {
   "cell_type": "code",
   "execution_count": null,
   "id": "baking-windows",
   "metadata": {},
   "outputs": [],
   "source": []
  }
 ],
 "metadata": {
  "kernelspec": {
   "display_name": "Julia 1.5.3",
   "language": "julia",
   "name": "julia-1.5"
  },
  "language_info": {
   "file_extension": ".jl",
   "mimetype": "application/julia",
   "name": "julia",
   "version": "1.5.3"
  }
 },
 "nbformat": 4,
 "nbformat_minor": 5
}
